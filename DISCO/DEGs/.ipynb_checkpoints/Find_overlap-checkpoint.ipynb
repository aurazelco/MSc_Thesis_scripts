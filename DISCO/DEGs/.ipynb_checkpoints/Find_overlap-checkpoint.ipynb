{
 "cells": [
  {
   "cell_type": "markdown",
   "metadata": {
    "tags": []
   },
   "source": [
    "# Overlap ARE ERE with brain expressed genes"
   ]
  },
  {
   "cell_type": "code",
   "execution_count": 20,
   "metadata": {
    "tags": []
   },
   "outputs": [],
   "source": [
    "import numpy as np\n",
    "import pandas as pd\n",
    "import scipy\n",
    "import scipy.stats as stats\n",
    "import matplotlib.pyplot as plt\n"
   ]
  },
  {
   "cell_type": "code",
   "execution_count": 21,
   "metadata": {},
   "outputs": [],
   "source": [
    "from os import listdir\n",
    "from os.path import isfile, join"
   ]
  },
  {
   "cell_type": "markdown",
   "metadata": {},
   "source": [
    "## Finding background genes from union of expression genes in all datasets  "
   ]
  },
  {
   "cell_type": "code",
   "execution_count": 22,
   "metadata": {},
   "outputs": [
    {
     "name": "stdout",
     "output_type": "stream",
     "text": [
      "AMY has background genes  55405\n",
      "CBC has background genes  76313\n",
      "CC has background genes  68723\n",
      "FC has background genes  78331\n",
      "HIP has background genes  74242\n",
      "MED has background genes  41156\n",
      "OC has background genes  65430\n",
      "PL has background genes  56908\n",
      "STR has background genes  73908\n",
      "TC has background genes  63864\n",
      "THA has background genes  62249\n"
     ]
    }
   ],
   "source": [
    "brain_reg = [\"AMY\", \"CBC\", \"CC\", \"FC\", \"HIP\", \"MED\", \"OC\", \"PL\", \"STR\", \"TC\", \"THA\"]\n",
    "#brain_reg = [\"AMY\"]\n",
    "background_genes = []\n",
    "path = '/Users/pattama/Desktop/UiB/sex_differences/analysis_git/gender_diff/brain/analysis.v5/00data_summary/list_dataset/Healthy/'\n",
    "\n",
    "for reg in brain_reg:\n",
    "    #print(reg)\n",
    "    data_path = path + reg\n",
    "    toptable_files = [path + reg + '/'+f for f in listdir(data_path) if isfile(join(data_path, f))]\n",
    "    gene_list = [ (pd.read_csv(f, sep=\" \")).index.to_list() for f in toptable_files]\n",
    "    union_gene_list = list(set().union(*gene_list))\n",
    "    upper_list = [gene.upper() for gene in union_gene_list]\n",
    "    \n",
    "    background_genes.append( upper_list )\n",
    "    \n",
    "    print(reg + ' has background genes ', len(set().union(*gene_list)))"
   ]
  },
  {
   "cell_type": "code",
   "execution_count": 23,
   "metadata": {},
   "outputs": [
    {
     "data": {
      "text/plain": [
       "11"
      ]
     },
     "execution_count": 23,
     "metadata": {},
     "output_type": "execute_result"
    }
   ],
   "source": [
    "len(background_genes)"
   ]
  },
  {
   "cell_type": "markdown",
   "metadata": {
    "tags": []
   },
   "source": [
    "## import ARE genes"
   ]
  },
  {
   "cell_type": "code",
   "execution_count": 24,
   "metadata": {
    "tags": []
   },
   "outputs": [],
   "source": [
    "ARE = pd.read_excel('../data/AREsitesHuman.xlsx', header=1)"
   ]
  },
  {
   "cell_type": "code",
   "execution_count": 25,
   "metadata": {},
   "outputs": [
    {
     "data": {
      "text/html": [
       "<div>\n",
       "<style scoped>\n",
       "    .dataframe tbody tr th:only-of-type {\n",
       "        vertical-align: middle;\n",
       "    }\n",
       "\n",
       "    .dataframe tbody tr th {\n",
       "        vertical-align: top;\n",
       "    }\n",
       "\n",
       "    .dataframe thead th {\n",
       "        text-align: right;\n",
       "    }\n",
       "</style>\n",
       "<table border=\"1\" class=\"dataframe\">\n",
       "  <thead>\n",
       "    <tr style=\"text-align: right;\">\n",
       "      <th></th>\n",
       "      <th>All genes containing ARE fullsites</th>\n",
       "      <th>All genes containing ARE halfsites</th>\n",
       "    </tr>\n",
       "  </thead>\n",
       "  <tbody>\n",
       "    <tr>\n",
       "      <th>0</th>\n",
       "      <td>MIR5690</td>\n",
       "      <td>HS3ST5</td>\n",
       "    </tr>\n",
       "    <tr>\n",
       "      <th>1</th>\n",
       "      <td>MIR592</td>\n",
       "      <td>MIR3660</td>\n",
       "    </tr>\n",
       "    <tr>\n",
       "      <th>2</th>\n",
       "      <td>LPHN2</td>\n",
       "      <td>MYLK</td>\n",
       "    </tr>\n",
       "    <tr>\n",
       "      <th>3</th>\n",
       "      <td>SAMD13</td>\n",
       "      <td>LRRC40</td>\n",
       "    </tr>\n",
       "    <tr>\n",
       "      <th>4</th>\n",
       "      <td>PARD3-AS1</td>\n",
       "      <td>PHKB</td>\n",
       "    </tr>\n",
       "  </tbody>\n",
       "</table>\n",
       "</div>"
      ],
      "text/plain": [
       "  All genes containing ARE fullsites All genes containing ARE halfsites\n",
       "0                            MIR5690                             HS3ST5\n",
       "1                             MIR592                            MIR3660\n",
       "2                              LPHN2                               MYLK\n",
       "3                             SAMD13                             LRRC40\n",
       "4                          PARD3-AS1                               PHKB"
      ]
     },
     "execution_count": 25,
     "metadata": {},
     "output_type": "execute_result"
    }
   ],
   "source": [
    "ARE.head()"
   ]
  },
  {
   "cell_type": "code",
   "execution_count": 26,
   "metadata": {},
   "outputs": [],
   "source": [
    "ARE_full = ARE['All genes containing ARE fullsites'].to_list()"
   ]
  },
  {
   "cell_type": "code",
   "execution_count": 27,
   "metadata": {},
   "outputs": [],
   "source": [
    "ARE_full = [item for item in ARE_full if not(pd.isna(item)) == True]"
   ]
  },
  {
   "cell_type": "code",
   "execution_count": 28,
   "metadata": {},
   "outputs": [
    {
     "data": {
      "text/plain": [
       "13979"
      ]
     },
     "execution_count": 28,
     "metadata": {},
     "output_type": "execute_result"
    }
   ],
   "source": [
    "len(ARE_full)"
   ]
  },
  {
   "cell_type": "code",
   "execution_count": 29,
   "metadata": {},
   "outputs": [],
   "source": [
    "ARE_half = ARE['All genes containing ARE halfsites'].to_list()"
   ]
  },
  {
   "cell_type": "code",
   "execution_count": 30,
   "metadata": {
    "tags": []
   },
   "outputs": [
    {
     "data": {
      "text/plain": [
       "16742"
      ]
     },
     "execution_count": 30,
     "metadata": {},
     "output_type": "execute_result"
    }
   ],
   "source": [
    "len(ARE_half)"
   ]
  },
  {
   "cell_type": "code",
   "execution_count": null,
   "metadata": {},
   "outputs": [],
   "source": []
  },
  {
   "cell_type": "markdown",
   "metadata": {
    "tags": []
   },
   "source": [
    "## Calculate ARE Overlap"
   ]
  },
  {
   "cell_type": "code",
   "execution_count": 31,
   "metadata": {},
   "outputs": [],
   "source": [
    "def intersection(lst1, lst2):\n",
    "    return list(set(lst1) & set(lst2))"
   ]
  },
  {
   "cell_type": "code",
   "execution_count": 34,
   "metadata": {},
   "outputs": [],
   "source": [
    "def intersection3(lst1, lst2, lst3):\n",
    "    return list(set(lst1) & set(lst2) & set(lst3))"
   ]
  },
  {
   "cell_type": "code",
   "execution_count": 35,
   "metadata": {},
   "outputs": [],
   "source": [
    "ARE_fh_F = [ len(intersection3(ARE_full, ARE_half, ls)) for ls in background_genes]\n",
    "ARE_f_F = [ len(intersection(ARE_full, ls)) for ls in background_genes]\n",
    "ARE_h_F = [ len(intersection(ARE_half, ls)) for ls in background_genes]"
   ]
  },
  {
   "cell_type": "markdown",
   "metadata": {},
   "source": [
    "# Remove full & half"
   ]
  },
  {
   "cell_type": "code",
   "execution_count": null,
   "metadata": {},
   "outputs": [],
   "source": []
  },
  {
   "cell_type": "code",
   "execution_count": null,
   "metadata": {},
   "outputs": [],
   "source": []
  },
  {
   "cell_type": "code",
   "execution_count": 36,
   "metadata": {},
   "outputs": [],
   "source": [
    "Fnum = [len(ls) for ls in background_genes]"
   ]
  },
  {
   "cell_type": "code",
   "execution_count": 37,
   "metadata": {},
   "outputs": [],
   "source": [
    "not_overlap_F= []\n",
    "for i in range(len(brain_reg)):\n",
    "    not_overlap_F.append(Fnum[i]- ARE_f_F[i] - ARE_h_F[i] + ARE_fh_F[i])"
   ]
  },
  {
   "cell_type": "code",
   "execution_count": 38,
   "metadata": {},
   "outputs": [],
   "source": [
    "F_df = pd.DataFrame({\n",
    "    \"not_overlap\":not_overlap_F,\n",
    "    \"overlap_ARE_full_half\":ARE_fh_F,\n",
    "    \"overlap_ARE_full\":ARE_f_F,\n",
    "    \"overlap_ARE_half\":ARE_h_F,\n",
    "    }, index=brain_reg)"
   ]
  },
  {
   "cell_type": "code",
   "execution_count": 40,
   "metadata": {},
   "outputs": [],
   "source": [
    "\n",
    "plt.rcParams.update({'font.size': 16})"
   ]
  },
  {
   "cell_type": "code",
   "execution_count": 41,
   "metadata": {},
   "outputs": [
    {
     "data": {
      "image/png": "[encoded data removed]",
      "text/plain": [
       "<Figure size 576x576 with 1 Axes>"
      ]
     },
     "metadata": {
      "needs_background": "light"
     },
     "output_type": "display_data"
    }
   ],
   "source": [
    "F_df_stack = F_df.apply(lambda x:x*100/sum(x),axis=1)\n",
    "F_df_stack.plot(kind='bar',stacked=True, figsize=(8,8))\n",
    "plt.title('% overlap between brain expressed genes and ARE')\n",
    "plt.savefig('ARE_expressed2.png', dpi = 150)"
   ]
  },
  {
   "cell_type": "markdown",
   "metadata": {},
   "source": [
    "## overlap ERE "
   ]
  },
  {
   "cell_type": "code",
   "execution_count": 42,
   "metadata": {
    "tags": []
   },
   "outputs": [],
   "source": [
    "ERE = pd.read_excel('../data/Hs_allEREs.xls', header=1)"
   ]
  },
  {
   "cell_type": "code",
   "execution_count": 53,
   "metadata": {
    "tags": []
   },
   "outputs": [],
   "source": [
    "ERE_gene = ERE.PIF1.to_list()"
   ]
  },
  {
   "cell_type": "code",
   "execution_count": 54,
   "metadata": {
    "tags": []
   },
   "outputs": [],
   "source": [
    "ERE_F = [ len(intersection(ERE_gene, ls)) for ls in background_genes]"
   ]
  },
  {
   "cell_type": "code",
   "execution_count": 55,
   "metadata": {
    "tags": []
   },
   "outputs": [
    {
     "data": {
      "text/plain": [
       "[3726, 4196, 3816, 4219, 3910, 3885, 4193, 3814, 3910, 3906, 3906]"
      ]
     },
     "execution_count": 55,
     "metadata": {},
     "output_type": "execute_result"
    }
   ],
   "source": [
    "ERE_F"
   ]
  },
  {
   "cell_type": "code",
   "execution_count": 57,
   "metadata": {},
   "outputs": [
    {
     "data": {
      "text/plain": [
       "[55405, 76313, 68723, 78331, 74242, 41156, 65430, 56908, 73908, 63864, 62249]"
      ]
     },
     "execution_count": 57,
     "metadata": {},
     "output_type": "execute_result"
    }
   ],
   "source": [
    "Fnum"
   ]
  },
  {
   "cell_type": "code",
   "execution_count": 49,
   "metadata": {},
   "outputs": [],
   "source": [
    "not_overlap= np.subtract(Fnum, ERE_F)"
   ]
  },
  {
   "cell_type": "code",
   "execution_count": 51,
   "metadata": {},
   "outputs": [],
   "source": [
    "M_df = pd.DataFrame({\n",
    "    \"not_overlap\":not_overlap,\n",
    "    \"overlap_ERE\":ERE_F\n",
    "    }, index=brain_reg)"
   ]
  },
  {
   "cell_type": "code",
   "execution_count": 52,
   "metadata": {},
   "outputs": [
    {
     "data": {
      "image/png": "[encoded data removed]",
      "text/plain": [
       "<Figure size 576x576 with 1 Axes>"
      ]
     },
     "metadata": {
      "needs_background": "light"
     },
     "output_type": "display_data"
    }
   ],
   "source": [
    "M_df_stack = M_df.apply(lambda x:x*100/sum(x),axis=1)\n",
    "M_df_stack.plot(kind='bar',stacked=True, figsize=(8,8))\n",
    "plt.title('% overlap between brain expressed genes and ERE')\n",
    "plt.savefig('ERE_overlap_expressed2.png', dpi = 150)"
   ]
  },
  {
   "cell_type": "code",
   "execution_count": 59,
   "metadata": {},
   "outputs": [],
   "source": [
    "F_df_stack.to_csv('brain_exp_overlap_ARE.csv')"
   ]
  },
  {
   "cell_type": "code",
   "execution_count": 62,
   "metadata": {},
   "outputs": [],
   "source": [
    "M_df_stack.to_csv('brain_exp_overlap_ERE.csv')"
   ]
  },
  {
   "cell_type": "code",
   "execution_count": null,
   "metadata": {},
   "outputs": [],
   "source": []
  }
 ],
 "metadata": {
  "kernelspec": {
   "display_name": "Python 3 (ipykernel)",
   "language": "python",
   "name": "python3"
  },
  "language_info": {
   "codemirror_mode": {
    "name": "ipython",
    "version": 3
   },
   "file_extension": ".py",
   "mimetype": "text/x-python",
   "name": "python",
   "nbconvert_exporter": "python",
   "pygments_lexer": "ipython3",
   "version": "3.8.13"
  }
 },
 "nbformat": 4,
 "nbformat_minor": 4
}
