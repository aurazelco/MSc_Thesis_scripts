{
 "cells": [
  {
   "cell_type": "markdown",
   "id": "131a29be",
   "metadata": {},
   "source": [
    "# Download the ENSEMBL Mammal Genes Database\n",
    "\n",
    "The scope of this Jupyter Notebook is to retrieve information about the genes expressed by all mammalian speciess, to later used in the 02C_Conservation part in the DEG analysis. "
   ]
  },
  {
   "cell_type": "code",
   "execution_count": 1,
   "id": "52ec5945-8e2e-465f-84bb-ba68d1ed27fd",
   "metadata": {},
   "outputs": [],
   "source": [
    "from pybiomart import Server"
   ]
  },
  {
   "cell_type": "code",
   "execution_count": 2,
   "id": "a88d3d03-2a51-46f0-bc4a-9fefcaa218fc",
   "metadata": {},
   "outputs": [],
   "source": [
    "import pandas as pd\n",
    "import numpy as np\n",
    "pd.set_option('display.max_rows', 4000)"
   ]
  },
  {
   "cell_type": "code",
   "execution_count": 3,
   "id": "dada67ee-acfc-4f2d-8ee5-9adeb7a207b1",
   "metadata": {},
   "outputs": [
    {
     "data": {
      "text/html": [
       "<div>\n",
       "<style scoped>\n",
       "    .dataframe tbody tr th:only-of-type {\n",
       "        vertical-align: middle;\n",
       "    }\n",
       "\n",
       "    .dataframe tbody tr th {\n",
       "        vertical-align: top;\n",
       "    }\n",
       "\n",
       "    .dataframe thead th {\n",
       "        text-align: right;\n",
       "    }\n",
       "</style>\n",
       "<table border=\"1\" class=\"dataframe\">\n",
       "  <thead>\n",
       "    <tr style=\"text-align: right;\">\n",
       "      <th></th>\n",
       "      <th>name</th>\n",
       "      <th>display_name</th>\n",
       "    </tr>\n",
       "  </thead>\n",
       "  <tbody>\n",
       "    <tr>\n",
       "      <th>0</th>\n",
       "      <td>lchalumnae_gene_ensembl</td>\n",
       "      <td>Coelacanth genes (LatCha1)</td>\n",
       "    </tr>\n",
       "    <tr>\n",
       "      <th>1</th>\n",
       "      <td>pcatodon_gene_ensembl</td>\n",
       "      <td>Sperm whale genes (ASM283717v2)</td>\n",
       "    </tr>\n",
       "    <tr>\n",
       "      <th>2</th>\n",
       "      <td>smerianae_gene_ensembl</td>\n",
       "      <td>Argentine black and white tegu genes (HLtupMer3)</td>\n",
       "    </tr>\n",
       "    <tr>\n",
       "      <th>3</th>\n",
       "      <td>odegus_gene_ensembl</td>\n",
       "      <td>Degu genes (OctDeg1.0)</td>\n",
       "    </tr>\n",
       "    <tr>\n",
       "      <th>4</th>\n",
       "      <td>ccapucinus_gene_ensembl</td>\n",
       "      <td>Capuchin genes (Cebus_imitator-1.0)</td>\n",
       "    </tr>\n",
       "  </tbody>\n",
       "</table>\n",
       "</div>"
      ],
      "text/plain": [
       "                      name                                      display_name\n",
       "0  lchalumnae_gene_ensembl                        Coelacanth genes (LatCha1)\n",
       "1    pcatodon_gene_ensembl                   Sperm whale genes (ASM283717v2)\n",
       "2   smerianae_gene_ensembl  Argentine black and white tegu genes (HLtupMer3)\n",
       "3      odegus_gene_ensembl                            Degu genes (OctDeg1.0)\n",
       "4  ccapucinus_gene_ensembl               Capuchin genes (Cebus_imitator-1.0)"
      ]
     },
     "execution_count": 3,
     "metadata": {},
     "output_type": "execute_result"
    }
   ],
   "source": [
    "server = Server(host='http://www.ensembl.org')\n",
    "server.list_marts().head()\n",
    "mart = server['ENSEMBL_MART_ENSEMBL']\n",
    "mart.list_datasets().head()"
   ]
  },
  {
   "cell_type": "code",
   "execution_count": 4,
   "id": "506249a0-31c6-4bdd-93ce-7b28b666dc2c",
   "metadata": {},
   "outputs": [],
   "source": [
    "dataset = mart['hsapiens_gene_ensembl']\n",
    "ds_attri = dataset.list_attributes()\n",
    "ds_attri_species = ds_attri[260:3020]\n",
    "ds_attri_species_gene = ds_attri_species[ds_attri_species['name'].str.contains('associated_gene_name')]"
   ]
  },
  {
   "cell_type": "code",
   "execution_count": 5,
   "id": "aa1ef36e-2ee4-4b13-9c0c-3133441ab719",
   "metadata": {},
   "outputs": [],
   "source": [
    "species_list = ds_attri_species_gene.name.to_list()"
   ]
  },
  {
   "cell_type": "code",
   "execution_count": 6,
   "id": "e7dc9738-b9a5-4073-a607-9fc6809837c3",
   "metadata": {},
   "outputs": [],
   "source": [
    "species_list.remove('bmusculus_homolog_associated_gene_name')"
   ]
  },
  {
   "cell_type": "code",
   "execution_count": 7,
   "id": "c0d52ca1-7cee-4e3e-a5c9-6e26ab93755b",
   "metadata": {},
   "outputs": [
    {
     "data": {
      "text/html": [
       "<div>\n",
       "<style scoped>\n",
       "    .dataframe tbody tr th:only-of-type {\n",
       "        vertical-align: middle;\n",
       "    }\n",
       "\n",
       "    .dataframe tbody tr th {\n",
       "        vertical-align: top;\n",
       "    }\n",
       "\n",
       "    .dataframe thead th {\n",
       "        text-align: right;\n",
       "    }\n",
       "</style>\n",
       "<table border=\"1\" class=\"dataframe\">\n",
       "  <thead>\n",
       "    <tr style=\"text-align: right;\">\n",
       "      <th></th>\n",
       "      <th>Abingdon island giant tortoise gene name</th>\n",
       "      <th>African ostrich gene name</th>\n",
       "      <th>Algerian mouse gene name</th>\n",
       "      <th>Alpaca gene name</th>\n",
       "      <th>Alpine marmot gene name</th>\n",
       "      <th>Amazon molly gene name</th>\n",
       "    </tr>\n",
       "  </thead>\n",
       "  <tbody>\n",
       "    <tr>\n",
       "      <th>0</th>\n",
       "      <td>NaN</td>\n",
       "      <td>NaN</td>\n",
       "      <td>NaN</td>\n",
       "      <td>NaN</td>\n",
       "      <td>NaN</td>\n",
       "      <td>NaN</td>\n",
       "    </tr>\n",
       "    <tr>\n",
       "      <th>1</th>\n",
       "      <td>NaN</td>\n",
       "      <td>MT-ND1</td>\n",
       "      <td>NaN</td>\n",
       "      <td>ND1</td>\n",
       "      <td>NaN</td>\n",
       "      <td>NaN</td>\n",
       "    </tr>\n",
       "    <tr>\n",
       "      <th>2</th>\n",
       "      <td>NaN</td>\n",
       "      <td>MT-ND2</td>\n",
       "      <td>NaN</td>\n",
       "      <td>ND2</td>\n",
       "      <td>NaN</td>\n",
       "      <td>NaN</td>\n",
       "    </tr>\n",
       "    <tr>\n",
       "      <th>3</th>\n",
       "      <td>NaN</td>\n",
       "      <td>MT-CO1</td>\n",
       "      <td>NaN</td>\n",
       "      <td>COX1</td>\n",
       "      <td>NaN</td>\n",
       "      <td>NaN</td>\n",
       "    </tr>\n",
       "    <tr>\n",
       "      <th>4</th>\n",
       "      <td>NaN</td>\n",
       "      <td>MT-CO2</td>\n",
       "      <td>NaN</td>\n",
       "      <td>COX2</td>\n",
       "      <td>NaN</td>\n",
       "      <td>NaN</td>\n",
       "    </tr>\n",
       "  </tbody>\n",
       "</table>\n",
       "</div>"
      ],
      "text/plain": [
       "  Abingdon island giant tortoise gene name African ostrich gene name  \\\n",
       "0                                      NaN                       NaN   \n",
       "1                                      NaN                    MT-ND1   \n",
       "2                                      NaN                    MT-ND2   \n",
       "3                                      NaN                    MT-CO1   \n",
       "4                                      NaN                    MT-CO2   \n",
       "\n",
       "  Algerian mouse gene name Alpaca gene name Alpine marmot gene name  \\\n",
       "0                      NaN              NaN                     NaN   \n",
       "1                      NaN              ND1                     NaN   \n",
       "2                      NaN              ND2                     NaN   \n",
       "3                      NaN             COX1                     NaN   \n",
       "4                      NaN             COX2                     NaN   \n",
       "\n",
       "  Amazon molly gene name  \n",
       "0                    NaN  \n",
       "1                    NaN  \n",
       "2                    NaN  \n",
       "3                    NaN  \n",
       "4                    NaN  "
      ]
     },
     "execution_count": 7,
     "metadata": {},
     "output_type": "execute_result"
    }
   ],
   "source": [
    "dataset.query(attributes = species_list[0:6]).head()"
   ]
  },
  {
   "cell_type": "code",
   "execution_count": 8,
   "id": "6f21db2a-6f7d-46e4-8b3a-1e861290afa1",
   "metadata": {},
   "outputs": [
    {
     "data": {
      "text/plain": [
       "'Abingdon island giant tortoise'"
      ]
     },
     "execution_count": 8,
     "metadata": {},
     "output_type": "execute_result"
    }
   ],
   "source": [
    "df = dataset.query(attributes = [species_list[0]])\n",
    "df.columns[0].replace(' gene name','')"
   ]
  },
  {
   "cell_type": "code",
   "execution_count": 9,
   "id": "f6d1c114-b559-495c-87a4-e09e1b342c5e",
   "metadata": {},
   "outputs": [],
   "source": [
    "def get_list(species):\n",
    "    df = dataset.query(attributes = [species])\n",
    "    genes = df.iloc[:,0].str.upper().to_list()\n",
    "    return genes"
   ]
  },
  {
   "cell_type": "code",
   "execution_count": 10,
   "id": "bcb88025-1db7-4fab-8b55-eedae0f7fff2",
   "metadata": {},
   "outputs": [],
   "source": [
    "def get_specie_name(species):\n",
    "    df = dataset.query(attributes = [species])\n",
    "    name = df.columns[0].replace(' gene name','')\n",
    "    return name"
   ]
  },
  {
   "cell_type": "code",
   "execution_count": 11,
   "id": "772613f1-6e30-41a9-84bf-62c7c2e70387",
   "metadata": {},
   "outputs": [
    {
     "ename": "BiomartException",
     "evalue": "Olive baboon gene name\nND1\nND2\nCOX1\nCOX2\nATP8\nATP6\nCOX3\nND3\nND4L\nND4\nND5\nND6\nCYTB\nQuery ERROR: caught BioMart::Exception::Database: Could not connect to mysql database ensembl_mart_108: DBI connect('database=ensembl_mart_108;host=127.0.0.1;port=5316','ensro',...) failed: Lost connection to MySQL server at 'reading initial communication packet', system error: 2 at /nfs/public/ro/ensweb/live/mart/www_108/biomart-perl/lib/BioMart/Configuration/DBLocation.pm line 98.\n",
     "output_type": "error",
     "traceback": [
      "\u001b[0;31m---------------------------------------------------------------------------\u001b[0m",
      "\u001b[0;31mBiomartException\u001b[0m                          Traceback (most recent call last)",
      "Cell \u001b[0;32mIn[11], line 1\u001b[0m\n\u001b[0;32m----> 1\u001b[0m gene_list \u001b[38;5;241m=\u001b[39m [get_list(species) \u001b[38;5;28;01mfor\u001b[39;00m species \u001b[38;5;129;01min\u001b[39;00m species_list]\n",
      "Cell \u001b[0;32mIn[11], line 1\u001b[0m, in \u001b[0;36m<listcomp>\u001b[0;34m(.0)\u001b[0m\n\u001b[0;32m----> 1\u001b[0m gene_list \u001b[38;5;241m=\u001b[39m [get_list(species) \u001b[38;5;28;01mfor\u001b[39;00m species \u001b[38;5;129;01min\u001b[39;00m species_list]\n",
      "Cell \u001b[0;32mIn[9], line 2\u001b[0m, in \u001b[0;36mget_list\u001b[0;34m(species)\u001b[0m\n\u001b[1;32m      1\u001b[0m \u001b[38;5;28;01mdef\u001b[39;00m \u001b[38;5;21mget_list\u001b[39m(species):\n\u001b[0;32m----> 2\u001b[0m     df \u001b[38;5;241m=\u001b[39m dataset\u001b[38;5;241m.\u001b[39mquery(attributes \u001b[38;5;241m=\u001b[39m [species])\n\u001b[1;32m      3\u001b[0m     genes \u001b[38;5;241m=\u001b[39m df\u001b[38;5;241m.\u001b[39miloc[:,\u001b[38;5;241m0\u001b[39m]\u001b[38;5;241m.\u001b[39mstr\u001b[38;5;241m.\u001b[39mupper()\u001b[38;5;241m.\u001b[39mto_list()\n\u001b[1;32m      4\u001b[0m     \u001b[38;5;28;01mreturn\u001b[39;00m genes\n",
      "File \u001b[0;32m~/opt/miniconda3/envs/MammalsConservation/lib/python3.11/site-packages/pybiomart/dataset.py:266\u001b[0m, in \u001b[0;36mDataset.query\u001b[0;34m(self, attributes, filters, only_unique, use_attr_names)\u001b[0m\n\u001b[1;32m    264\u001b[0m \u001b[38;5;66;03m# Raise exception if an error occurred.\u001b[39;00m\n\u001b[1;32m    265\u001b[0m \u001b[38;5;28;01mif\u001b[39;00m \u001b[38;5;124m'\u001b[39m\u001b[38;5;124mQuery ERROR\u001b[39m\u001b[38;5;124m'\u001b[39m \u001b[38;5;129;01min\u001b[39;00m response\u001b[38;5;241m.\u001b[39mtext:\n\u001b[0;32m--> 266\u001b[0m     \u001b[38;5;28;01mraise\u001b[39;00m BiomartException(response\u001b[38;5;241m.\u001b[39mtext)\n\u001b[1;32m    268\u001b[0m \u001b[38;5;66;03m# Parse results into a DataFrame.\u001b[39;00m\n\u001b[1;32m    269\u001b[0m result \u001b[38;5;241m=\u001b[39m pd\u001b[38;5;241m.\u001b[39mread_csv(StringIO(response\u001b[38;5;241m.\u001b[39mtext), sep\u001b[38;5;241m=\u001b[39m\u001b[38;5;124m'\u001b[39m\u001b[38;5;130;01m\\t\u001b[39;00m\u001b[38;5;124m'\u001b[39m)\n",
      "\u001b[0;31mBiomartException\u001b[0m: Olive baboon gene name\nND1\nND2\nCOX1\nCOX2\nATP8\nATP6\nCOX3\nND3\nND4L\nND4\nND5\nND6\nCYTB\nQuery ERROR: caught BioMart::Exception::Database: Could not connect to mysql database ensembl_mart_108: DBI connect('database=ensembl_mart_108;host=127.0.0.1;port=5316','ensro',...) failed: Lost connection to MySQL server at 'reading initial communication packet', system error: 2 at /nfs/public/ro/ensweb/live/mart/www_108/biomart-perl/lib/BioMart/Configuration/DBLocation.pm line 98.\n"
     ]
    }
   ],
   "source": [
    "gene_list = [get_list(species) for species in species_list]"
   ]
  },
  {
   "cell_type": "code",
   "execution_count": null,
   "id": "5b8f482d-3ab8-4eee-9046-e2dbd9446f0c",
   "metadata": {},
   "outputs": [],
   "source": [
    "species_name = [get_specie_name(species) for species in species_list]"
   ]
  },
  {
   "cell_type": "code",
   "execution_count": null,
   "id": "6af517a8-1bca-435c-91ad-3d3f5d92fd02",
   "metadata": {},
   "outputs": [],
   "source": [
    "gene_dict = dict(zip(species_name, gene_list))"
   ]
  },
  {
   "cell_type": "code",
   "execution_count": null,
   "id": "9310a7ce-9f58-44f7-85de-c1e404a1a333",
   "metadata": {},
   "outputs": [],
   "source": [
    "gene_series = pd.Series(gene_dict)"
   ]
  },
  {
   "cell_type": "code",
   "execution_count": null,
   "id": "ab7dbcdd-5e16-4f6c-871f-c3580347609e",
   "metadata": {},
   "outputs": [],
   "source": [
    "gene_series.head()"
   ]
  },
  {
   "cell_type": "code",
   "execution_count": null,
   "id": "375deb08",
   "metadata": {},
   "outputs": [],
   "source": [
    "# Find union of all genes\n",
    "genes_union = list(set().union(*gene_list))\n",
    "genes_union = np.array([x for x in genes_union if str(x) != 'nan'])"
   ]
  },
  {
   "cell_type": "code",
   "execution_count": null,
   "id": "fdfc4e87",
   "metadata": {},
   "outputs": [],
   "source": [
    "def get_binary_array(union_list, small_list ):\n",
    "    \"\"\"\n",
    "    Description\n",
    "    -----------\n",
    "    Get binary numpy array of union_list by check if union_list is in small_list\n",
    "    Parameters\n",
    "    ----------\n",
    "        union_list : numpy array\n",
    "        small_list : numpy array\n",
    "    Returns\n",
    "    -------\n",
    "        retrun binary numpy array\n",
    "    \"\"\"\n",
    "    binary_array = np.isin(union_list, small_list).astype(int)\n",
    "    return binary_array"
   ]
  },
  {
   "cell_type": "code",
   "execution_count": null,
   "id": "832a0862",
   "metadata": {},
   "outputs": [],
   "source": [
    "binary_mat = np.array([get_binary_array(genes_union, np.array(gene_small_list)) for gene_small_list in gene_list])"
   ]
  },
  {
   "cell_type": "code",
   "execution_count": null,
   "id": "cebc35b6",
   "metadata": {},
   "outputs": [],
   "source": [
    "binary_mat_T = np.transpose(binary_mat)"
   ]
  },
  {
   "cell_type": "code",
   "execution_count": null,
   "id": "e66bb0f3",
   "metadata": {},
   "outputs": [],
   "source": [
    "binary_mat_T.shape"
   ]
  },
  {
   "cell_type": "code",
   "execution_count": null,
   "id": "8ee534e0-6c6d-4ca7-a40a-d41a579b63be",
   "metadata": {},
   "outputs": [],
   "source": [
    "binary_mat_T"
   ]
  },
  {
   "cell_type": "code",
   "execution_count": null,
   "id": "36e99ca8",
   "metadata": {},
   "outputs": [],
   "source": [
    "binary_all_species = pd.DataFrame(binary_mat_T, columns=species_name, index=genes_union)\n",
    "binary_all_species.head()"
   ]
  },
  {
   "cell_type": "code",
   "execution_count": null,
   "id": "854cf914",
   "metadata": {},
   "outputs": [],
   "source": [
    "binary_all_species.to_csv(\"binary_mat_all_species.csv\")"
   ]
  }
 ],
 "metadata": {
  "kernelspec": {
   "display_name": "Python 3",
   "language": "python",
   "name": "python3"
  },
  "language_info": {
   "codemirror_mode": {
    "name": "ipython",
    "version": 3
   },
   "file_extension": ".py",
   "mimetype": "text/x-python",
   "name": "python",
   "nbconvert_exporter": "python",
   "pygments_lexer": "ipython3",
   "version": "3.11.0"
  },
  "vscode": {
   "interpreter": {
    "hash": "1c6d32db597b951ba6b2db5ac4727b49820c97ad2d6dfe069cd204729e1c1167"
   }
  }
 },
 "nbformat": 4,
 "nbformat_minor": 5
}
